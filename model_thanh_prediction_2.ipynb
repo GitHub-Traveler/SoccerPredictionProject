{
 "cells": [
  {
   "cell_type": "markdown",
   "metadata": {},
   "source": [
    "## Import Necessary Libraries"
   ]
  },
  {
   "cell_type": "code",
   "execution_count": 28,
   "metadata": {
    "collapsed": true
   },
   "outputs": [],
   "source": [
    "import pandas as pd\n",
    "import glob\n",
    "import os\n",
    "import sklearn\n",
    "from imblearn.over_sampling import RandomOverSampler, SMOTE, ADASYN\n",
    "from sklearn.preprocessing import Normalizer\n",
    "from sklearn.model_selection import train_test_split\n",
    "import numpy as np\n",
    "import seaborn as sns"
   ]
  },
  {
   "cell_type": "markdown",
   "metadata": {},
   "source": [
    "## Read data from files and choosing features and labels"
   ]
  },
  {
   "cell_type": "code",
   "execution_count": 29,
   "metadata": {
    "collapsed": false
   },
   "outputs": [],
   "source": [
    "dataset = pd.read_csv('created_dataset/EPL_data_augmented_last_5_matches.csv', index_col=None, header=0)\n",
    "start = 0\n",
    "finish = len(dataset)\n",
    "df_features = dataset.iloc[start:finish, 12:28]\n",
    "df_features = df_features.interpolate(method='linear')\n",
    "result = dataset['FTR'][start:finish]\n",
    "\n"
   ]
  },
  {
   "cell_type": "code",
   "execution_count": 30,
   "metadata": {},
   "outputs": [
    {
     "data": {
      "text/html": [
       "<div>\n",
       "<style scoped>\n",
       "    .dataframe tbody tr th:only-of-type {\n",
       "        vertical-align: middle;\n",
       "    }\n",
       "\n",
       "    .dataframe tbody tr th {\n",
       "        vertical-align: top;\n",
       "    }\n",
       "\n",
       "    .dataframe thead th {\n",
       "        text-align: right;\n",
       "    }\n",
       "</style>\n",
       "<table border=\"1\" class=\"dataframe\">\n",
       "  <thead>\n",
       "    <tr style=\"text-align: right;\">\n",
       "      <th></th>\n",
       "      <th>HomeTeam</th>\n",
       "      <th>AwayTeam</th>\n",
       "      <th>FTHG</th>\n",
       "      <th>FTAG</th>\n",
       "      <th>FTR</th>\n",
       "      <th>HS</th>\n",
       "      <th>AS</th>\n",
       "      <th>HST</th>\n",
       "      <th>AST</th>\n",
       "      <th>HC</th>\n",
       "      <th>...</th>\n",
       "      <th>total_AST_got_5</th>\n",
       "      <th>total_HST_5</th>\n",
       "      <th>total_HST_got_5</th>\n",
       "      <th>total_AC_5</th>\n",
       "      <th>total_AC_got_5</th>\n",
       "      <th>total_HC_5</th>\n",
       "      <th>total_HC_got_5</th>\n",
       "      <th>B365H</th>\n",
       "      <th>B365A</th>\n",
       "      <th>B365D</th>\n",
       "    </tr>\n",
       "  </thead>\n",
       "  <tbody>\n",
       "    <tr>\n",
       "      <th>0</th>\n",
       "      <td>Aston Villa</td>\n",
       "      <td>Bolton</td>\n",
       "      <td>2</td>\n",
       "      <td>2</td>\n",
       "      <td>D</td>\n",
       "      <td>3</td>\n",
       "      <td>13</td>\n",
       "      <td>2</td>\n",
       "      <td>6</td>\n",
       "      <td>7</td>\n",
       "      <td>...</td>\n",
       "      <td>0</td>\n",
       "      <td>0</td>\n",
       "      <td>0</td>\n",
       "      <td>0</td>\n",
       "      <td>0</td>\n",
       "      <td>0</td>\n",
       "      <td>0</td>\n",
       "      <td>2.30</td>\n",
       "      <td>3.00</td>\n",
       "      <td>3.25</td>\n",
       "    </tr>\n",
       "    <tr>\n",
       "      <th>1</th>\n",
       "      <td>Everton</td>\n",
       "      <td>Man United</td>\n",
       "      <td>0</td>\n",
       "      <td>2</td>\n",
       "      <td>A</td>\n",
       "      <td>10</td>\n",
       "      <td>12</td>\n",
       "      <td>5</td>\n",
       "      <td>5</td>\n",
       "      <td>8</td>\n",
       "      <td>...</td>\n",
       "      <td>0</td>\n",
       "      <td>0</td>\n",
       "      <td>0</td>\n",
       "      <td>0</td>\n",
       "      <td>0</td>\n",
       "      <td>0</td>\n",
       "      <td>0</td>\n",
       "      <td>5.00</td>\n",
       "      <td>1.72</td>\n",
       "      <td>3.40</td>\n",
       "    </tr>\n",
       "    <tr>\n",
       "      <th>2</th>\n",
       "      <td>Fulham</td>\n",
       "      <td>Birmingham</td>\n",
       "      <td>0</td>\n",
       "      <td>0</td>\n",
       "      <td>D</td>\n",
       "      <td>15</td>\n",
       "      <td>7</td>\n",
       "      <td>7</td>\n",
       "      <td>4</td>\n",
       "      <td>6</td>\n",
       "      <td>...</td>\n",
       "      <td>0</td>\n",
       "      <td>0</td>\n",
       "      <td>0</td>\n",
       "      <td>0</td>\n",
       "      <td>0</td>\n",
       "      <td>0</td>\n",
       "      <td>0</td>\n",
       "      <td>2.37</td>\n",
       "      <td>2.87</td>\n",
       "      <td>3.25</td>\n",
       "    </tr>\n",
       "    <tr>\n",
       "      <th>3</th>\n",
       "      <td>Man City</td>\n",
       "      <td>West Brom</td>\n",
       "      <td>0</td>\n",
       "      <td>0</td>\n",
       "      <td>D</td>\n",
       "      <td>15</td>\n",
       "      <td>13</td>\n",
       "      <td>8</td>\n",
       "      <td>3</td>\n",
       "      <td>3</td>\n",
       "      <td>...</td>\n",
       "      <td>0</td>\n",
       "      <td>0</td>\n",
       "      <td>0</td>\n",
       "      <td>0</td>\n",
       "      <td>0</td>\n",
       "      <td>0</td>\n",
       "      <td>0</td>\n",
       "      <td>1.72</td>\n",
       "      <td>5.00</td>\n",
       "      <td>3.40</td>\n",
       "    </tr>\n",
       "    <tr>\n",
       "      <th>4</th>\n",
       "      <td>Middlesbrough</td>\n",
       "      <td>Liverpool</td>\n",
       "      <td>0</td>\n",
       "      <td>0</td>\n",
       "      <td>D</td>\n",
       "      <td>4</td>\n",
       "      <td>16</td>\n",
       "      <td>2</td>\n",
       "      <td>7</td>\n",
       "      <td>5</td>\n",
       "      <td>...</td>\n",
       "      <td>0</td>\n",
       "      <td>0</td>\n",
       "      <td>0</td>\n",
       "      <td>0</td>\n",
       "      <td>0</td>\n",
       "      <td>0</td>\n",
       "      <td>0</td>\n",
       "      <td>2.87</td>\n",
       "      <td>2.40</td>\n",
       "      <td>3.20</td>\n",
       "    </tr>\n",
       "  </tbody>\n",
       "</table>\n",
       "<p>5 rows × 30 columns</p>\n",
       "</div>"
      ],
      "text/plain": [
       "        HomeTeam    AwayTeam  FTHG  FTAG FTR  HS  AS  HST  AST  HC  ...  \\\n",
       "0    Aston Villa      Bolton     2     2   D   3  13    2    6   7  ...   \n",
       "1        Everton  Man United     0     2   A  10  12    5    5   8  ...   \n",
       "2         Fulham  Birmingham     0     0   D  15   7    7    4   6  ...   \n",
       "3       Man City   West Brom     0     0   D  15  13    8    3   3  ...   \n",
       "4  Middlesbrough   Liverpool     0     0   D   4  16    2    7   5  ...   \n",
       "\n",
       "   total_AST_got_5  total_HST_5  total_HST_got_5  total_AC_5  total_AC_got_5  \\\n",
       "0                0            0                0           0               0   \n",
       "1                0            0                0           0               0   \n",
       "2                0            0                0           0               0   \n",
       "3                0            0                0           0               0   \n",
       "4                0            0                0           0               0   \n",
       "\n",
       "   total_HC_5  total_HC_got_5  B365H  B365A  B365D  \n",
       "0           0               0   2.30   3.00   3.25  \n",
       "1           0               0   5.00   1.72   3.40  \n",
       "2           0               0   2.37   2.87   3.25  \n",
       "3           0               0   1.72   5.00   3.40  \n",
       "4           0               0   2.87   2.40   3.20  \n",
       "\n",
       "[5 rows x 30 columns]"
      ]
     },
     "execution_count": 30,
     "metadata": {},
     "output_type": "execute_result"
    }
   ],
   "source": [
    "dataset.head()"
   ]
  },
  {
   "cell_type": "code",
   "execution_count": 31,
   "metadata": {},
   "outputs": [
    {
     "data": {
      "text/plain": [
       "<Axes: >"
      ]
     },
     "execution_count": 31,
     "metadata": {},
     "output_type": "execute_result"
    },
    {
     "data": {
      "image/png": "[encoded data removed]",
      "text/plain": [
       "<Figure size 640x480 with 2 Axes>"
      ]
     },
     "metadata": {},
     "output_type": "display_data"
    }
   ],
   "source": [
    "# Print out the correlation matrix\n",
    "sns.heatmap(df_features.corr().abs())"
   ]
  },
  {
   "cell_type": "code",
   "execution_count": 32,
   "metadata": {},
   "outputs": [
    {
     "data": {
      "text/plain": [
       "<Axes: >"
      ]
     },
     "execution_count": 32,
     "metadata": {},
     "output_type": "execute_result"
    },
    {
     "data": {
      "image/png": "[encoded data removed]",
      "text/plain": [
       "<Figure size 640x480 with 1 Axes>"
      ]
     },
     "metadata": {},
     "output_type": "display_data"
    }
   ],
   "source": [
    "result.hist()\n"
   ]
  },
  {
   "cell_type": "code",
   "execution_count": 33,
   "metadata": {},
   "outputs": [],
   "source": [
    "# Create correlation matrix\n",
    "corr_matrix = df_features.corr().abs()\n",
    "\n",
    "# Select upper triangle of correlation matrix\n",
    "upper = corr_matrix.where(np.triu(np.ones(corr_matrix.shape), k=1).astype(bool))\n",
    "\n",
    "# Find features with correlation greater than 0.8\n",
    "to_drop = [column for column in upper.columns if any(upper[column] > 0.8)]\n",
    "\n",
    "# Drop features \n",
    "df_features.drop(to_drop, axis=1, inplace=True)"
   ]
  },
  {
   "cell_type": "code",
   "execution_count": 34,
   "metadata": {},
   "outputs": [
    {
     "data": {
      "text/html": [
       "<div>\n",
       "<style scoped>\n",
       "    .dataframe tbody tr th:only-of-type {\n",
       "        vertical-align: middle;\n",
       "    }\n",
       "\n",
       "    .dataframe tbody tr th {\n",
       "        vertical-align: top;\n",
       "    }\n",
       "\n",
       "    .dataframe thead th {\n",
       "        text-align: right;\n",
       "    }\n",
       "</style>\n",
       "<table border=\"1\" class=\"dataframe\">\n",
       "  <thead>\n",
       "    <tr style=\"text-align: right;\">\n",
       "      <th></th>\n",
       "      <th>total_goals_away_5</th>\n",
       "      <th>total_goals_home_got_5</th>\n",
       "      <th>total_goals_away_got_5</th>\n",
       "      <th>total_AS_5</th>\n",
       "      <th>total_AS_got_5</th>\n",
       "      <th>total_HS_5</th>\n",
       "      <th>total_HS_got_5</th>\n",
       "      <th>total_AST_5</th>\n",
       "      <th>total_AST_got_5</th>\n",
       "      <th>total_HST_5</th>\n",
       "      <th>total_HST_got_5</th>\n",
       "      <th>total_AC_5</th>\n",
       "      <th>total_AC_got_5</th>\n",
       "      <th>total_HC_5</th>\n",
       "      <th>total_HC_got_5</th>\n",
       "      <th>B365H</th>\n",
       "    </tr>\n",
       "  </thead>\n",
       "  <tbody>\n",
       "    <tr>\n",
       "      <th>0</th>\n",
       "      <td>0</td>\n",
       "      <td>0</td>\n",
       "      <td>0</td>\n",
       "      <td>0</td>\n",
       "      <td>0</td>\n",
       "      <td>0</td>\n",
       "      <td>0</td>\n",
       "      <td>0</td>\n",
       "      <td>0</td>\n",
       "      <td>0</td>\n",
       "      <td>0</td>\n",
       "      <td>0</td>\n",
       "      <td>0</td>\n",
       "      <td>0</td>\n",
       "      <td>0</td>\n",
       "      <td>2.30</td>\n",
       "    </tr>\n",
       "    <tr>\n",
       "      <th>1</th>\n",
       "      <td>0</td>\n",
       "      <td>0</td>\n",
       "      <td>0</td>\n",
       "      <td>0</td>\n",
       "      <td>0</td>\n",
       "      <td>0</td>\n",
       "      <td>0</td>\n",
       "      <td>0</td>\n",
       "      <td>0</td>\n",
       "      <td>0</td>\n",
       "      <td>0</td>\n",
       "      <td>0</td>\n",
       "      <td>0</td>\n",
       "      <td>0</td>\n",
       "      <td>0</td>\n",
       "      <td>5.00</td>\n",
       "    </tr>\n",
       "    <tr>\n",
       "      <th>2</th>\n",
       "      <td>0</td>\n",
       "      <td>0</td>\n",
       "      <td>0</td>\n",
       "      <td>0</td>\n",
       "      <td>0</td>\n",
       "      <td>0</td>\n",
       "      <td>0</td>\n",
       "      <td>0</td>\n",
       "      <td>0</td>\n",
       "      <td>0</td>\n",
       "      <td>0</td>\n",
       "      <td>0</td>\n",
       "      <td>0</td>\n",
       "      <td>0</td>\n",
       "      <td>0</td>\n",
       "      <td>2.37</td>\n",
       "    </tr>\n",
       "    <tr>\n",
       "      <th>3</th>\n",
       "      <td>0</td>\n",
       "      <td>0</td>\n",
       "      <td>0</td>\n",
       "      <td>0</td>\n",
       "      <td>0</td>\n",
       "      <td>0</td>\n",
       "      <td>0</td>\n",
       "      <td>0</td>\n",
       "      <td>0</td>\n",
       "      <td>0</td>\n",
       "      <td>0</td>\n",
       "      <td>0</td>\n",
       "      <td>0</td>\n",
       "      <td>0</td>\n",
       "      <td>0</td>\n",
       "      <td>1.72</td>\n",
       "    </tr>\n",
       "    <tr>\n",
       "      <th>4</th>\n",
       "      <td>0</td>\n",
       "      <td>0</td>\n",
       "      <td>0</td>\n",
       "      <td>0</td>\n",
       "      <td>0</td>\n",
       "      <td>0</td>\n",
       "      <td>0</td>\n",
       "      <td>0</td>\n",
       "      <td>0</td>\n",
       "      <td>0</td>\n",
       "      <td>0</td>\n",
       "      <td>0</td>\n",
       "      <td>0</td>\n",
       "      <td>0</td>\n",
       "      <td>0</td>\n",
       "      <td>2.87</td>\n",
       "    </tr>\n",
       "  </tbody>\n",
       "</table>\n",
       "</div>"
      ],
      "text/plain": [
       "   total_goals_away_5  total_goals_home_got_5  total_goals_away_got_5  \\\n",
       "0                   0                       0                       0   \n",
       "1                   0                       0                       0   \n",
       "2                   0                       0                       0   \n",
       "3                   0                       0                       0   \n",
       "4                   0                       0                       0   \n",
       "\n",
       "   total_AS_5  total_AS_got_5  total_HS_5  total_HS_got_5  total_AST_5  \\\n",
       "0           0               0           0               0            0   \n",
       "1           0               0           0               0            0   \n",
       "2           0               0           0               0            0   \n",
       "3           0               0           0               0            0   \n",
       "4           0               0           0               0            0   \n",
       "\n",
       "   total_AST_got_5  total_HST_5  total_HST_got_5  total_AC_5  total_AC_got_5  \\\n",
       "0                0            0                0           0               0   \n",
       "1                0            0                0           0               0   \n",
       "2                0            0                0           0               0   \n",
       "3                0            0                0           0               0   \n",
       "4                0            0                0           0               0   \n",
       "\n",
       "   total_HC_5  total_HC_got_5  B365H  \n",
       "0           0               0   2.30  \n",
       "1           0               0   5.00  \n",
       "2           0               0   2.37  \n",
       "3           0               0   1.72  \n",
       "4           0               0   2.87  "
      ]
     },
     "execution_count": 34,
     "metadata": {},
     "output_type": "execute_result"
    }
   ],
   "source": [
    "df_features.head()"
   ]
  },
  {
   "cell_type": "code",
   "execution_count": 35,
   "metadata": {},
   "outputs": [
    {
     "name": "stdout",
     "output_type": "stream",
     "text": [
      "(array([0, 1, 0, ..., 0, 1, 0], dtype=int64), Index(['D', 'A', 'H'], dtype='object'))\n"
     ]
    }
   ],
   "source": [
    "## Transform to numpy array\n",
    "result = pd.factorize(result)\n",
    "print(result)\n",
    "features = np.array(df_features)\n",
    "scaler = Normalizer()\n",
    "\n",
    "features = scaler.fit_transform(features)\n",
    "result = np.array(result[0])\n",
    "train_size = int(len(features) * 0.8)\n",
    "X_train, X_val = features[:train_size], features[train_size:]\n",
    "y_train, y_val = result[:train_size], result[train_size:]\n",
    "X_val, X_test = X_val[:len(X_val) // 2], X_val[len(X_val) // 2:]\n",
    "y_val, y_test = y_val[:len(y_val) // 2], y_val[len(y_val) // 2:]"
   ]
  },
  {
   "cell_type": "markdown",
   "metadata": {},
   "source": [
    "## Function to return expected returns with specific bookmakers or maximum bet rate"
   ]
  },
  {
   "cell_type": "code",
   "execution_count": 36,
   "metadata": {},
   "outputs": [],
   "source": [
    "def return_rate(y_pred, y_val, first_index, train_size):\n",
    "    dataset = pd.read_csv('created_dataset/EPL_2005_2023.csv', index_col=0, header=0)\n",
    "    test = []\n",
    "    for i in range(0, len(y_val)):\n",
    "        if(y_val[i] == y_pred[i]):\n",
    "            if (y_val[i] == 0):\n",
    "                test.append(dataset.iloc[first_index + train_size + i]['B365D'])\n",
    "            if (y_val[i] == 1):\n",
    "                test.append(dataset.iloc[first_index + train_size + i]['B365A'])    \n",
    "            if (y_val[i] == 2):\n",
    "                test.append(dataset.iloc[first_index + train_size + i]['B365H'])\n",
    "        else:\n",
    "            test.append(0)\n",
    "    print(test)\n",
    "    print(sum(test) / len(test))"
   ]
  },
  {
   "cell_type": "markdown",
   "metadata": {},
   "source": [
    "## Train the model"
   ]
  },
  {
   "cell_type": "markdown",
   "metadata": {},
   "source": [
    "### Main model"
   ]
  },
  {
   "cell_type": "code",
   "execution_count": 37,
   "metadata": {},
   "outputs": [
    {
     "data": {
      "text/plain": [
       "array([[<Axes: title={'center': '0'}>]], dtype=object)"
      ]
     },
     "execution_count": 37,
     "metadata": {},
     "output_type": "execute_result"
    },
    {
     "data": {
      "image/png": "[encoded data removed]",
      "text/plain": [
       "<Figure size 640x480 with 1 Axes>"
      ]
     },
     "metadata": {},
     "output_type": "display_data"
    }
   ],
   "source": [
    "test_frame = pd.DataFrame(result)\n",
    "test_frame.hist()"
   ]
  },
  {
   "cell_type": "code",
   "execution_count": null,
   "metadata": {},
   "outputs": [],
   "source": [
    "## OPTIONAL: RESAMPLING\n",
    "sampler = ADASYN()\n",
    "X_train, y_train = sampler.fit_resample(X_train, y_train)"
   ]
  },
  {
   "cell_type": "code",
   "execution_count": 44,
   "metadata": {
    "collapsed": false
   },
   "outputs": [
    {
     "name": "stdout",
     "output_type": "stream",
     "text": [
      "0.4808510638297872\n",
      "[0, 2.05, 2.2, 1.66, 1.16, 0, 1.4, 3.0, 3.3, 1.33, 0, 0, 1.4, 1.7, 3.5, 1.12, 0, 0, 1.53, 0, 3.5, 1.33, 1.95, 0, 0, 0, 1.28, 0, 0, 0, 0, 0, 1.12, 0, 1.14, 1.75, 0, 3.5, 0, 1.36, 0, 0, 0, 0, 0, 3.4, 3.5, 1.5, 1.33, 0, 0, 2.0, 1.9, 0, 1.85, 0, 0, 0, 1.08, 1.36, 2.15, 3.6, 1.53, 0, 1.28, 0, 1.95, 0, 1.61, 2.37, 1.5, 0, 0, 1.53, 0, 2.87, 2.2, 1.61, 0, 1.5, 1.72, 2.1, 0, 2.3, 2.62, 0, 0, 0, 2.5, 1.45, 0, 0, 0, 0, 0, 1.72, 1.57, 1.5, 0, 0, 0, 0, 1.44, 1.66, 0, 3.3, 0, 0, 3.3, 0, 0, 0, 0, 3.6, 1.22, 0, 0, 0, 0, 1.6, 0, 1.28, 1.5, 1.36, 0, 0, 0, 1.61, 0, 0, 0, 2.0, 0, 0, 1.36, 0, 1.45, 0, 4.2, 0, 1.45, 0, 0, 1.3, 1.85, 0, 3.75, 0, 0, 3.25, 0, 0, 1.16, 0, 0, 1.95, 0, 0, 0, 0, 0, 1.1, 2.0, 1.5, 2.55, 1.95, 0, 1.5, 0, 0, 0, 0, 0, 0, 1.7, 0, 0, 0, 2.0, 0, 0, 3.5, 1.75, 0, 0, 1.75, 3.4, 0, 1.44, 1.5, 1.44, 2.45, 3.25, 0, 0, 1.66, 1.95, 0, 1.44, 3.6, 1.9, 0, 0, 1.11, 1.85, 1.72, 0, 0, 0, 0, 0, 2.2, 0, 3.6, 0, 1.53, 0, 0, 0, 0, 0, 0, 1.57, 1.61, 2.2, 0, 0, 1.45, 0, 1.14, 0, 0, 0, 0, 0, 1.5, 0, 1.6, 0, 1.14, 1.4, 1.57, 0, 1.22, 1.53, 0, 1.45, 2.37, 1.85, 2.05, 1.18, 0, 0, 3.4, 0, 0, 2.2, 0, 0, 1.12, 3.2, 3.5, 0, 1.33, 0, 1.75, 0, 2.0, 0, 1.4, 2.6, 1.2, 1.9, 0, 0, 0, 2.1, 0, 0, 0, 0, 0, 1.45, 0, 0, 1.45, 1.8, 0, 3.2, 1.28, 3.5, 3.1, 0, 0, 0, 1.66, 1.22, 0, 1.33, 0, 0, 0, 0, 0, 0, 0, 1.5, 1.28, 0, 2.25, 1.22, 0, 0, 0, 0, 0, 0, 3.4, 1.36, 2.15, 1.18, 0, 0, 0, 1.9, 1.83, 0, 0, 2.0, 3.25, 0, 3.2, 0, 0, 1.45, 1.53, 0, 1.18, 3.3, 0, 0, 0, 1.33, 2.5, 1.5, 0, 1.83, 1.72, 3.0, 1.66, 3.5, 2.45, 0, 1.5, 1.53, 2.15, 0, 0, 0, 1.61, 0, 0, 0, 0, 1.5, 1.53, 0, 0, 2.45, 1.57, 0, 3.3, 0, 0, 1.66, 0, 1.33, 0, 0, 0, 1.36, 1.53, 0, 0, 1.75, 0, 0, 0, 3.6, 1.4, 0, 1.33, 2.05, 1.44, 0, 2.0, 1.25, 0, 0, 0, 0, 2.45, 0, 1.25, 0, 1.8, 0, 1.44, 0, 0, 2.05, 0, 3.4, 2.2, 1.25, 0, 2.0, 0, 0, 1.5, 1.22, 0, 0, 0, 0, 0, 0, 1.72, 0, 1.5, 1.22, 1.6, 1.57, 0, 0, 1.4, 0, 1.14, 1.44, 0, 1.65, 0, 0, 0, 0, 1.25, 0, 1.66, 0, 1.3, 2.2, 0, 1.18, 0, 0, 0, 1.08, 1.7, 0, 0, 1.72, 0, 1.25, 0, 0, 3.4, 0, 0, 0, 3.5, 1.36, 1.75, 0, 1.5, 0, 1.57, 1.18, 3.5, 2.25, 1.28, 1.75, 1.7, 3.6, 0, 1.95, 1.2, 0, 0, 0, 0, 1.75, 1.7, 0, 0, 1.61, 0, 0, 0, 0, 2.8, 0, 0, 0, 0, 1.36, 1.7, 1.61, 3.25, 0, 0, 0, 0, 1.33, 0, 0, 1.12, 0, 0, 1.57, 0, 0, 0, 1.83, 1.18, 0, 0, 3.4, 0, 1.4, 0, 2.3, 0, 0, 0, 0, 0, 1.36, 0, 2.37, 2.1, 0, 0, 1.95, 1.7, 0, 0, 0, 0, 1.36, 0, 3.5, 0, 1.75, 0, 0, 3.4, 0, 0, 0, 0, 1.14, 1.7, 1.44, 0, 1.28, 0, 3.4, 2.25, 1.61, 1.28, 0, 3.5, 0, 3.5, 1.3, 3.6, 3.5, 1.33, 1.36, 0, 0, 0, 0, 3.2, 1.4, 1.2, 0, 1.5, 1.36, 0, 0, 0, 1.14, 1.61, 1.25, 1.2, 1.45, 3.6, 1.66, 0, 2.25, 1.14, 3.5, 0, 0, 0, 1.12, 1.83, 1.18, 0, 0, 1.18, 1.4, 1.72, 0, 1.65, 0, 0, 1.65, 0, 0, 0, 0, 1.14, 1.36, 1.5, 1.61, 0, 0, 0, 0, 0, 0, 0, 1.28, 3.3, 1.65, 3.6, 0, 0, 0, 1.3, 0, 0, 2.3, 1.8, 0, 0, 0, 0, 0, 0, 0, 1.53, 3.25, 0, 3.25, 0, 1.55, 0, 1.1, 0, 0, 0, 1.25, 2.2, 4.0, 3.1, 0, 2.05, 1.16, 1.28, 0, 0, 3.5, 1.72, 4.0, 1.44, 0, 0, 1.65, 1.1, 2.1, 0, 1.85, 2.25, 0, 2.3, 1.16, 1.65, 1.53, 0, 0, 3.6, 0, 0, 1.28, 0, 2.4, 1.75, 0, 1.5, 2.75, 0, 0]\n",
      "0.93282269503546\n",
      "5638\n"
     ]
    },
    {
     "name": "stderr",
     "output_type": "stream",
     "text": [
      "c:\\Users\\trung\\anaconda3\\envs\\EmThanhHocMay\\Lib\\site-packages\\sklearn\\neural_network\\_multilayer_perceptron.py:686: ConvergenceWarning: Stochastic Optimizer: Maximum iterations (200) reached and the optimization hasn't converged yet.\n",
      "  warnings.warn(\n",
      "C:\\Users\\trung\\AppData\\Local\\Temp\\ipykernel_32008\\2237375622.py:2: DtypeWarning: Columns (77) have mixed types. Specify dtype option on import or set low_memory=False.\n",
      "  dataset = pd.read_csv('created_dataset/EPL_2005_2023.csv', index_col=0, header=0)\n"
     ]
    }
   ],
   "source": [
    "from sklearn.neural_network import MLPClassifier\n",
    "from sklearn.metrics import accuracy_score\n",
    "\n",
    "model = MLPClassifier((20, 20))\n",
    "model.fit(X_train, y_train)\n",
    "y_pred = model.predict(X_val)\n",
    "print(accuracy_score(y_pred, y_val))\n",
    "return_rate(y_pred, y_val, start, train_size)\n",
    "print(train_size)"
   ]
  },
  {
   "cell_type": "markdown",
   "metadata": {},
   "source": [
    "### Auxillary model"
   ]
  },
  {
   "cell_type": "code",
   "execution_count": 39,
   "metadata": {
    "collapsed": false
   },
   "outputs": [
    {
     "name": "stdout",
     "output_type": "stream",
     "text": [
      "0.4765957446808511\n",
      "[0, 0, 2.2, 1.66, 1.16, 0, 1.4, 3.0, 3.3, 1.33, 0, 0, 1.4, 1.7, 3.5, 1.12, 0, 0, 1.53, 0, 3.5, 1.33, 1.95, 0, 0, 0, 1.28, 0, 0, 0, 0, 0, 1.12, 0, 1.14, 1.75, 0, 0, 0, 1.36, 0, 2.4, 2.25, 0, 0, 0, 3.5, 1.5, 1.33, 0, 0, 2.0, 1.9, 3.0, 0, 0, 3.0, 2.2, 1.08, 1.36, 0, 3.6, 1.53, 0, 1.28, 3.4, 1.95, 0, 1.61, 2.37, 1.5, 1.61, 0, 1.53, 0, 2.87, 2.2, 1.61, 0, 1.5, 1.72, 2.1, 0, 2.3, 2.62, 0, 0, 0, 2.5, 1.45, 1.4, 0, 0, 0, 0, 1.72, 1.57, 1.5, 0, 0, 0, 0, 1.44, 1.66, 0, 0, 0, 0, 0, 0, 0, 0, 0, 3.6, 1.22, 0, 0, 0, 0, 1.6, 0, 1.28, 1.5, 1.36, 2.8, 0, 0, 1.61, 0, 0, 0, 0, 2.37, 0, 1.36, 0, 1.45, 0, 4.2, 0, 1.45, 0, 0, 1.3, 1.85, 0, 0, 0, 0, 0, 0, 0, 1.16, 0, 0, 1.95, 3.5, 0, 0, 0, 0, 1.1, 2.0, 1.5, 0, 0, 1.95, 1.5, 0, 3.1, 0, 0, 0, 0, 1.7, 0, 0, 0, 0, 0, 0, 3.5, 0, 0, 0, 0, 3.4, 0, 1.44, 1.5, 1.44, 0, 3.25, 0, 0, 1.66, 0, 0, 1.44, 3.6, 1.9, 0, 0, 1.11, 1.85, 1.72, 0, 0, 3.25, 0, 0, 2.2, 2.37, 3.6, 2.0, 1.53, 0, 3.5, 1.72, 1.75, 1.95, 3.25, 1.57, 1.61, 2.2, 0, 0, 1.45, 0, 1.14, 0, 0, 0, 0, 0, 1.5, 1.8, 1.6, 0, 1.14, 1.4, 1.57, 0, 1.22, 1.53, 0, 1.45, 2.37, 1.85, 2.05, 1.18, 0, 0, 0, 0, 0, 2.2, 0, 0, 1.12, 3.2, 3.5, 2.37, 1.33, 0, 1.75, 0, 2.0, 0, 1.4, 0, 1.2, 1.9, 0, 0, 0, 2.1, 0, 0, 3.0, 0, 0, 1.45, 0, 0, 1.45, 1.8, 0, 3.2, 1.28, 0, 3.1, 0, 0, 0, 0, 1.22, 0, 1.33, 0, 0, 0, 0, 0, 0, 0, 1.5, 1.28, 0, 2.25, 1.22, 0, 0, 0, 0, 2.8, 0, 3.4, 1.36, 0, 1.18, 0, 0, 0, 0, 1.83, 0, 0, 2.0, 0, 0, 0, 0, 0, 1.45, 1.53, 0, 1.18, 0, 0, 0, 0, 1.33, 2.5, 1.5, 0, 1.83, 1.72, 3.0, 1.66, 0, 2.45, 0, 1.5, 1.53, 2.15, 0, 0, 0, 1.61, 3.5, 0, 3.1, 0, 1.5, 1.53, 0, 0, 2.45, 1.57, 0, 0, 3.5, 0, 1.66, 0, 1.33, 0, 4.0, 1.75, 1.36, 1.53, 0, 0, 1.75, 0, 0, 0, 3.6, 1.4, 0, 1.33, 2.05, 1.44, 0, 2.0, 1.25, 0, 0, 0, 0, 0, 0, 1.25, 0, 1.8, 0, 1.44, 0, 2.8, 2.05, 0, 0, 0, 1.25, 0, 0, 0, 0, 1.5, 1.22, 0, 0, 0, 0, 1.7, 1.85, 1.72, 0, 1.5, 1.22, 1.6, 1.57, 0, 0, 1.4, 0, 1.14, 1.44, 0, 1.65, 0, 0, 1.53, 0, 1.25, 1.9, 1.66, 0, 1.3, 2.2, 0, 1.18, 1.8, 0, 3.4, 1.08, 1.7, 0, 0, 1.72, 0, 1.25, 0, 0, 0, 0, 0, 0, 3.5, 1.36, 1.75, 0, 1.5, 2.62, 1.57, 1.18, 3.5, 2.25, 1.28, 1.75, 1.7, 0, 0, 1.95, 1.2, 0, 0, 0, 0, 1.75, 1.7, 2.75, 0, 1.61, 0, 0, 0, 0, 2.8, 0, 0, 0, 0, 1.36, 1.7, 1.61, 0, 0, 0, 0, 3.5, 1.33, 0, 0, 1.12, 0, 0, 1.57, 0, 0, 0, 1.83, 1.18, 0, 0, 3.4, 3.5, 1.4, 0, 2.3, 0, 0, 0, 0, 0, 1.36, 0, 0, 2.1, 0, 0, 0, 1.7, 0, 0, 0, 0, 1.36, 0, 0, 0, 1.75, 0, 3.2, 0, 0, 0, 0, 1.45, 1.14, 0, 1.44, 0, 1.28, 3.3, 3.4, 2.25, 1.61, 1.28, 0, 3.5, 0, 3.5, 1.3, 0, 0, 1.33, 1.36, 1.6, 1.95, 0, 0, 3.2, 1.4, 1.2, 0, 1.5, 1.36, 0, 0, 0, 1.14, 1.61, 1.25, 1.2, 1.45, 3.6, 1.66, 0, 0, 1.14, 0, 0, 0, 0, 1.12, 1.83, 1.18, 0, 0, 1.18, 1.4, 1.72, 0, 1.65, 0, 0, 1.65, 0, 2.1, 0, 0, 1.14, 1.36, 1.5, 1.61, 0, 0, 2.62, 0, 0, 0, 0, 1.28, 0, 1.65, 0, 0, 2.25, 0, 1.3, 0, 3.75, 0, 1.8, 0, 0, 0, 0, 1.85, 0, 0, 1.53, 3.25, 1.61, 0, 0, 1.55, 0, 1.1, 0, 0, 0, 1.25, 2.2, 0, 0, 0, 2.05, 1.16, 1.28, 0, 0, 3.5, 1.72, 0, 1.44, 0, 0, 1.65, 1.1, 0, 0, 1.85, 0, 0, 0, 1.16, 1.65, 1.53, 0, 0, 0, 0, 0, 1.28, 0, 2.4, 1.75, 0, 1.5, 2.75, 0, 0]\n",
      "0.9002553191489356\n"
     ]
    },
    {
     "name": "stderr",
     "output_type": "stream",
     "text": [
      "C:\\Users\\trung\\AppData\\Local\\Temp\\ipykernel_32008\\2237375622.py:2: DtypeWarning: Columns (77) have mixed types. Specify dtype option on import or set low_memory=False.\n",
      "  dataset = pd.read_csv('created_dataset/EPL_2005_2023.csv', index_col=0, header=0)\n"
     ]
    }
   ],
   "source": [
    "from sklearn.ensemble import GradientBoostingClassifier\n",
    "model = GradientBoostingClassifier()\n",
    "model.fit(X_train, y_train)\n",
    "y_pred = model.predict(X_val)\n",
    "print(accuracy_score(y_pred, y_val))\n",
    "return_rate(y_pred, y_val, start, train_size)"
   ]
  },
  {
   "cell_type": "code",
   "execution_count": 40,
   "metadata": {},
   "outputs": [
    {
     "name": "stdout",
     "output_type": "stream",
     "text": [
      "0.44964539007092197\n",
      "[0, 2.05, 0, 1.66, 1.16, 0, 1.4, 3.0, 0, 1.33, 0, 0, 1.4, 0, 0, 1.12, 0, 0, 1.53, 0, 3.5, 1.33, 1.95, 0, 0, 0, 1.28, 0, 0, 0, 0, 0, 1.12, 0, 1.14, 1.75, 0, 3.5, 0, 1.36, 0, 2.4, 0, 0, 0, 3.4, 0, 1.5, 1.33, 0, 6.5, 2.0, 1.9, 0, 1.85, 4.2, 0, 0, 1.08, 1.36, 2.15, 0, 0, 0, 1.28, 0, 1.95, 0, 1.61, 2.37, 0, 1.61, 0, 0, 0, 0, 2.2, 1.61, 2.7, 1.5, 1.72, 2.1, 0, 2.3, 0, 4.5, 0, 0, 2.5, 1.45, 0, 0, 0, 0, 0, 1.72, 1.57, 0, 0, 0, 0, 0, 1.44, 0, 3.3, 0, 0, 0, 0, 0, 0, 0, 0, 3.6, 1.22, 0, 3.5, 0, 0, 1.6, 0, 1.28, 1.5, 1.36, 0, 0, 0, 1.61, 2.4, 0, 0, 2.0, 0, 0, 1.36, 0, 1.45, 0, 0, 0, 1.45, 0, 0, 1.3, 0, 2.4, 0, 1.85, 0, 0, 0, 0, 1.16, 3.6, 0, 1.95, 0, 3.75, 0, 0, 3.5, 1.1, 2.0, 1.5, 0, 0, 0, 1.5, 0, 0, 0, 0, 0, 0, 0, 0, 0, 0, 0, 0, 0, 3.5, 0, 0, 3.3, 1.75, 3.4, 0, 1.44, 1.5, 1.44, 0, 3.25, 3.75, 0, 0, 1.95, 0, 1.44, 3.6, 1.9, 3.3, 0, 1.11, 1.85, 1.72, 0, 0, 3.25, 0, 0, 0, 2.37, 3.6, 0, 1.53, 0, 0, 0, 0, 0, 3.25, 1.57, 1.61, 2.2, 0, 0, 1.45, 0, 1.14, 5.0, 0, 0, 0, 0, 1.5, 1.8, 0, 0, 1.14, 1.4, 1.57, 0, 1.22, 1.53, 0, 1.45, 2.37, 0, 2.05, 1.18, 0, 4.2, 3.4, 0, 0, 2.2, 0, 0, 1.12, 3.2, 0, 0, 1.33, 0, 1.75, 0, 2.0, 0, 1.4, 0, 1.2, 1.9, 0, 0, 0, 2.1, 0, 0, 3.0, 0, 0, 1.45, 0, 2.05, 1.45, 1.8, 3.5, 0, 1.28, 3.5, 0, 0, 0, 0, 1.66, 1.22, 0, 1.33, 0, 0, 0, 0, 2.15, 2.62, 0, 1.5, 1.28, 0, 2.25, 1.22, 0, 0, 3.2, 0, 0, 0, 0, 1.36, 0, 1.18, 3.25, 0, 0, 0, 0, 0, 0, 2.0, 3.25, 0, 3.2, 0, 0, 1.45, 1.53, 0, 1.18, 3.3, 0, 0, 0, 1.33, 2.5, 1.5, 0, 0, 1.72, 0, 1.66, 0, 2.45, 0, 1.5, 1.53, 2.15, 0, 0, 0, 0, 0, 0, 0, 0, 1.5, 1.53, 0, 0, 0, 1.57, 0, 3.3, 3.5, 0, 1.66, 3.8, 0, 0, 0, 0, 1.36, 1.53, 0, 0, 1.75, 0, 0, 0, 3.6, 1.4, 0, 1.33, 2.05, 1.44, 0, 2.0, 1.25, 0, 0, 0, 0, 0, 0, 1.25, 0, 1.8, 0, 1.44, 0, 0, 0, 0, 3.4, 2.2, 1.25, 0, 0, 0, 0, 0, 1.22, 0, 0, 0, 0, 0, 0, 1.72, 0, 1.5, 1.22, 1.6, 0, 0, 0, 1.4, 0, 1.14, 0, 0, 1.65, 0, 4.0, 0, 0, 1.25, 0, 1.66, 0, 1.3, 2.2, 0, 1.18, 0, 0, 0, 1.08, 0, 4.2, 0, 1.72, 0, 1.25, 0, 0, 3.4, 0, 0, 0, 3.5, 1.36, 1.75, 0, 1.5, 0, 1.57, 0, 0, 2.25, 1.28, 1.75, 1.7, 3.6, 0, 0, 1.2, 0, 0, 0, 2.7, 0, 1.7, 2.75, 0, 1.61, 2.25, 4.0, 3.4, 0, 2.8, 0, 0, 0, 0, 0, 0, 1.61, 3.25, 3.4, 0, 0, 0, 1.33, 0, 0, 1.12, 0, 0, 0, 0, 0, 3.8, 1.83, 1.18, 3.6, 0, 3.4, 3.5, 1.4, 0, 2.3, 2.2, 0, 0, 0, 0, 1.36, 0, 0, 2.1, 0, 0, 1.95, 1.7, 0, 0, 0, 3.9, 1.36, 3.25, 3.5, 0, 1.75, 0, 0, 0, 0, 0, 0, 0, 1.14, 0, 1.44, 0, 1.28, 3.3, 3.4, 2.25, 0, 1.28, 0, 3.5, 2.4, 3.5, 1.3, 3.6, 3.5, 1.33, 1.36, 0, 0, 0, 0, 3.2, 1.4, 1.2, 0, 0, 0, 0, 0, 0, 1.14, 0, 1.25, 1.2, 0, 3.6, 0, 2.3, 0, 1.14, 0, 3.3, 0, 0, 1.12, 1.83, 1.18, 0, 0, 1.18, 1.4, 0, 0, 1.65, 0, 4.75, 0, 0, 0, 0, 0, 1.14, 1.36, 1.5, 1.61, 0, 0, 0, 0, 0, 0, 0, 1.28, 3.3, 1.65, 3.6, 0, 0, 3.5, 1.3, 0, 0, 2.3, 1.8, 0, 0, 0, 0, 0, 0, 0, 1.53, 3.25, 0, 3.25, 0, 0, 0, 1.1, 3.25, 0, 0, 1.25, 2.2, 4.0, 3.1, 0, 0, 1.16, 1.28, 0, 0, 3.5, 1.72, 4.0, 1.44, 0, 0, 0, 1.1, 0, 0, 1.85, 2.25, 0, 0, 1.16, 1.65, 1.53, 0, 3.0, 3.6, 0, 0, 1.28, 0, 0, 1.75, 0, 1.5, 2.75, 0, 0]\n",
      "0.9426524822695029\n"
     ]
    },
    {
     "name": "stderr",
     "output_type": "stream",
     "text": [
      "C:\\Users\\trung\\AppData\\Local\\Temp\\ipykernel_32008\\2237375622.py:2: DtypeWarning: Columns (77) have mixed types. Specify dtype option on import or set low_memory=False.\n",
      "  dataset = pd.read_csv('created_dataset/EPL_2005_2023.csv', index_col=0, header=0)\n"
     ]
    }
   ],
   "source": [
    "from sklearn.linear_model import SGDClassifier\n",
    "\n",
    "model = SGDClassifier()\n",
    "model.fit(X_train, y_train)\n",
    "\n",
    "y_pred = model.predict(X_val)\n",
    "print(accuracy_score(y_pred, y_val))\n",
    "return_rate(y_pred, y_val, start, train_size)"
   ]
  },
  {
   "cell_type": "code",
   "execution_count": 41,
   "metadata": {},
   "outputs": [
    {
     "name": "stdout",
     "output_type": "stream",
     "text": [
      "[1]\n"
     ]
    }
   ],
   "source": [
    "inference = [0] * 16\n",
    "home_team_name = 'Man City'\n",
    "away_team_name = 'Man United'\n",
    "# Features are: total_goals_home_4\ttotal_goals_away_4\ttotal_goals_home_got_4\ttotal_goals_away_got_4\ttotal_AS_4\ttotal_AS_got_4\ttotal_HS_4\ttotal_HS_got_4\ttotal_AST_4\ttotal_AST_got_4\ttotal_HST_4\ttotal_HST_got_4\ttotal_AC_4\ttotal_AC_got_4\ttotal_HC_4\ttotal_HC_got_4\n",
    "# These are the statistics of the last 4 games played by home and away teams.\n",
    "# 'got' means the amount of goals/etc that the home/away teams have been scored by the opponents in the last 4 games that each team played.\n",
    "# Output is [0, 1, 2], in which 0 is draw, 1 is away, 2 is home.\n",
    "query_data_home = dataset[(dataset['HomeTeam'] == home_team_name) | (dataset['AwayTeam'] == home_team_name)][-5:-1]\n",
    "query_data_away = dataset[(dataset['HomeTeam'] == away_team_name) | (dataset['AwayTeam'] == away_team_name)][-5:-1]\n",
    "for i in range(0, 4):\n",
    "    if query_data_home.iloc[i]['AwayTeam'] == home_team_name:\n",
    "        inference[0] += query_data_home.iloc[i]['FTAG']\n",
    "        inference[2] += query_data_home.iloc[i]['FTHG']\n",
    "        inference[6] += query_data_home.iloc[i]['AS']\n",
    "        inference[7] += query_data_home.iloc[i]['HS']\n",
    "        inference[10] += query_data_home.iloc[i]['AST']\n",
    "        inference[11] += query_data_home.iloc[i]['HST']\n",
    "        inference[14] += query_data_home.iloc[i]['AC']\n",
    "        inference[15] += query_data_home.iloc[i]['HC']\n",
    "    if query_data_home.iloc[i]['HomeTeam'] == home_team_name:\n",
    "        inference[0] += query_data_home.iloc[i]['FTHG']\n",
    "        inference[2] += query_data_home.iloc[i]['FTAG']\n",
    "        inference[6] += query_data_home.iloc[i]['HS']\n",
    "        inference[7] += query_data_home.iloc[i]['AS']\n",
    "        inference[10] += query_data_home.iloc[i]['HST']\n",
    "        inference[11] += query_data_home.iloc[i]['AST']\n",
    "        inference[14] += query_data_home.iloc[i]['HC']\n",
    "        inference[15] += query_data_home.iloc[i]['AC']\n",
    "    if query_data_home.iloc[i]['HomeTeam'] == away_team_name:\n",
    "        inference[1] += query_data_home.iloc[i]['FTHG']\n",
    "        inference[3] += query_data_home.iloc[i]['FTAG']\n",
    "        inference[4] += query_data_home.iloc[i]['HS']\n",
    "        inference[5] += query_data_home.iloc[i]['AS']\n",
    "        inference[8] += query_data_home.iloc[i]['HST']\n",
    "        inference[9] += query_data_home.iloc[i]['AST']\n",
    "        inference[12] += query_data_home.iloc[i]['HC']\n",
    "        inference[13] += query_data_home.iloc[i]['AC']\n",
    "    if query_data_home.iloc[i]['AwayTeam'] == away_team_name:\n",
    "        inference[1] += query_data_home.iloc[i]['FTAG']\n",
    "        inference[3] += query_data_home.iloc[i]['FTHG']\n",
    "        inference[4] += query_data_home.iloc[i]['AS']\n",
    "        inference[5] += query_data_home.iloc[i]['HS']\n",
    "        inference[8] += query_data_home.iloc[i]['AST']\n",
    "        inference[9] += query_data_home.iloc[i]['HST']\n",
    "        inference[12] += query_data_home.iloc[i]['AC']\n",
    "        inference[13] += query_data_home.iloc[i]['HC']\n",
    "print(model.predict(np.array(inference).reshape(1, -1)))\n"
   ]
  },
  {
   "cell_type": "code",
   "execution_count": 42,
   "metadata": {},
   "outputs": [
    {
     "data": {
      "text/plain": [
       "6998       Luton\n",
       "7002    Man City\n",
       "7025     Everton\n",
       "7031    Man City\n",
       "Name: HomeTeam, dtype: object"
      ]
     },
     "execution_count": 42,
     "metadata": {},
     "output_type": "execute_result"
    }
   ],
   "source": [
    "query_data_home['HomeTeam']"
   ]
  },
  {
   "cell_type": "code",
   "execution_count": 43,
   "metadata": {},
   "outputs": [],
   "source": [
    "# # Save the model to file\n",
    "# import joblib\n",
    "# filename = 'trained_model/prediction_with_FCNN_last_4_matches.pkl'\n",
    "# joblib.dump(model, filename)"
   ]
  }
 ],
 "metadata": {
  "kernelspec": {
   "display_name": "Python 3",
   "language": "python",
   "name": "python3"
  },
  "language_info": {
   "codemirror_mode": {
    "name": "ipython",
    "version": 3
   },
   "file_extension": ".py",
   "mimetype": "text/x-python",
   "name": "python",
   "nbconvert_exporter": "python",
   "pygments_lexer": "ipython3",
   "version": "3.11.5"
  }
 },
 "nbformat": 4,
 "nbformat_minor": 0
}
