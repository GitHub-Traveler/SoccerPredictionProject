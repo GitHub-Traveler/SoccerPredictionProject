{
 "cells": [
  {
   "cell_type": "code",
   "execution_count": 1,
   "metadata": {
    "collapsed": true
   },
   "outputs": [],
   "source": [
    "import pandas as pd\n",
    "import glob\n",
    "import os\n",
    "import sklearn\n",
    "from sklearn.preprocessing import Normalizer\n",
    "from sklearn.model_selection import train_test_split\n",
    "import numpy as np\n"
   ]
  },
  {
   "cell_type": "code",
   "execution_count": 21,
   "metadata": {
    "collapsed": false
   },
   "outputs": [],
   "source": [
    "dataset = pd.read_csv('created_dataset/EPL_data_for_2.5_prediction_no_bet.csv', index_col=None, header=0)\n",
    "df_features = dataset.iloc[:, 11:]\n",
    "df_features = df_features.interpolate(method='linear')\n",
    "result = dataset['FTR']\n",
    "\n",
    "result = pd.factorize(result)\n",
    "features = np.array(df_features)\n",
    "\n",
    "scaler = Normalizer()\n",
    "\n",
    "features = scaler.fit_transform(features)\n",
    "result = np.array(result[0])\n",
    "train_size = int(len(features) * 0.95)\n",
    "X_train, X_val = features[:train_size], features[train_size:]\n",
    "y_train, y_val = result[:train_size], result[train_size:]\n"
   ]
  },
  {
   "cell_type": "code",
   "execution_count": 22,
   "metadata": {
    "collapsed": false
   },
   "outputs": [
    {
     "name": "stdout",
     "output_type": "stream",
     "text": [
      "[2 1 1 2 2 2 2 2 2 2 2 1 2 1 2 2 1 2 1 1 2 1 1 2 2 2 2 2 1 2 2 1 1 2 2 2 2\n",
      " 1 2 1 2 2 1 2 1 1 2 1 2 2 1 1 2 1 2 2 1 1 1 2 1 1 2 2 1 2 2 2 1 1 2 2 2 1\n",
      " 2 1 2 2 2 1 2 2 1 2 1 2 1 1 1 2 2 2 2 1 2 2 2 2 2 2 2 2 2 2 1 1 2 2 1 2 2\n",
      " 2 1 2 2 2 2 2 2 1 1 1 2 1 1 1 2 1 2 2 2 2 2 1 2 2 1 2 1 2 2 1 2 2 1 1 2 1\n",
      " 2 2 1 2 2 1 2 2 2 2 1 1 1 1 2 2 2 1 2 2 2 2 2 1 1 1 1 1 2 1 2 2 2 2 2 2 1\n",
      " 1 2 1 2 1 1 1 1 2 2 1 2 2 1 2 2 2 2 1 1 1 2 2 2 2 1 2 2 1 2 1 1 2 2 1 2 1\n",
      " 1 1 1 1 2 2 2 2 1 1 1 2 2 1 1 2 2 1 1 2 1 2 2 2 2 1 2 2 1 1 1 1 2 2 2 1 2\n",
      " 1 2 2 2 1 1 2 1 1 1 1 2 1 1 2 1 2 2 2 1 2 2 2 2 2 2 1 1 2 2 2 1 1 2 2 1 1\n",
      " 2 1 1 2 1 2 2 1 2 1 2 2 1 1 2 2 2 2 1 2 2 2 1 1 2 2 2 2 2 2 1 1 2 2 2 2 2\n",
      " 1 2 2 2 2 2 1 2 2 1 2 2 1 1 2 2 1 1 1 1]\n",
      "0.5609065155807366\n"
     ]
    }
   ],
   "source": [
    "from sklearn.linear_model import SGDClassifier\n",
    "from sklearn.ensemble import GradientBoostingClassifier\n",
    "from sklearn.neural_network import MLPClassifier\n",
    "from sklearn.metrics import accuracy_score\n",
    "model = MLPClassifier((20, 20, 10))\n",
    "model.fit(X_train, y_train)\n",
    "y_pred = model.predict(X_val)\n",
    "print(y_pred)\n",
    "print(accuracy_score(y_pred, y_val))"
   ]
  },
  {
   "cell_type": "code",
   "execution_count": 5,
   "metadata": {
    "collapsed": false
   },
   "outputs": [
    {
     "name": "stdout",
     "output_type": "stream",
     "text": [
      "0.5014184397163121\n"
     ]
    }
   ],
   "source": [
    "from sklearn.ensemble import RandomForestClassifier\n",
    "model = RandomForestClassifier()\n",
    "model.fit(X_train, y_train)\n",
    "y_pred = model.predict(X_val)\n",
    "print(accuracy_score(y_pred, y_val))"
   ]
  },
  {
   "cell_type": "code",
   "execution_count": 23,
   "metadata": {},
   "outputs": [
    {
     "name": "stdout",
     "output_type": "stream",
     "text": [
      "[1.83, 1.33, 0, 2.65, 1.4, 1.52, 1.52, 1.24, 2.12, 1.84, 1.67, 0, 2.89, 0, 2.5, 2.05, 0, 2.8, 0, 2.08, 1.48, 1.38, 1.63, 0, 0, 1.72, 1.49, 0, 1.74, 1.76, 0, 0, 3.56, 0, 1.29, 1.7, 1.31, 0, 0, 0, 0, 0, 0, 2.49, 0, 1.61, 1.75, 2.85, 0, 1.71, 2.2, 0, 1.65, 2.15, 0, 0, 0, 0, 1.27, 0, 0, 0, 0, 0, 2.75, 0, 2.59, 1.18, 0, 1.75, 0, 0, 2.47, 0, 0, 0, 1.21, 0, 1.92, 0, 1.84, 0, 0, 0, 1.92, 1.61, 1.81, 3.22, 0, 2.88, 1.7, 1.54, 2.67, 1.28, 1.83, 1.35, 1.6, 0, 1.64, 1.3, 1.23, 2.08, 0, 1.19, 0, 0, 1.52, 0, 0, 2.8, 0, 2.2, 0, 2.38, 0, 1.91, 1.41, 0, 2.1, 1.39, 4.35, 1.64, 2.07, 4.3, 1.55, 0, 0, 0, 5.6, 2.55, 1.25, 1.28, 0, 0, 1.7, 1.43, 0, 4.05, 0, 0, 1.53, 2.45, 2.0, 1.56, 0, 1.39, 1.21, 0, 1.36, 0, 2.48, 1.8, 0, 0, 1.34, 2.0, 0, 1.26, 1.97, 0, 0, 0, 3.86, 0, 1.33, 2.05, 0, 0, 0, 1.34, 0, 2.22, 1.21, 3.18, 1.78, 0, 0, 1.93, 0, 1.18, 2.62, 2.01, 1.71, 1.83, 1.51, 0, 1.73, 3.07, 1.31, 1.53, 0, 0, 1.57, 0, 0, 0, 1.17, 0, 1.8, 0, 1.43, 0, 1.45, 1.51, 0, 1.58, 0, 0, 1.36, 1.49, 0, 3.08, 0, 2.1, 0, 1.54, 1.8, 2.03, 1.68, 0, 0, 0, 0, 0, 0, 0, 0, 1.9, 1.46, 1.5, 0, 0, 1.46, 1.95, 1.55, 1.83, 5.75, 1.14, 2.19, 0, 3.47, 1.31, 0, 1.3, 0, 0, 2.12, 2.71, 0, 1.11, 0, 0, 0, 0, 0, 3.41, 1.22, 3.27, 1.38, 0, 1.63, 0, 1.45, 0, 0, 0, 2.17, 0, 0, 2.25, 0, 1.8, 2.9, 0, 0, 1.3, 1.51, 1.89, 2.67, 2.0, 0, 1.78, 1.29, 0, 0, 0, 1.25, 1.98, 0, 2.14, 1.29, 0, 2.93, 3.3, 4.25, 1.63, 0, 6.0, 0, 0, 0, 3.15, 2.49, 1.17, 2.3, 1.78, 1.28, 0, 0, 2.19, 1.53, 0, 2.27, 0, 0, 0, 2.72, 0, 0, 2.66, 1.87, 0, 3.91, 0, 2.27, 0, 1.43, 0, 0, 1.75, 0, 2.57, 0, 1.56, 1.4, 2.31, 1.1, 2.75, 3.41, 0, 1.82, 1.51, 0, 0, 1.69, 1.6, 0, 0, 1.31, 0, 0, 1.77, 0]\n",
      "1.1234277620396604\n"
     ]
    },
    {
     "name": "stderr",
     "output_type": "stream",
     "text": [
      "C:\\Users\\trung\\AppData\\Local\\Temp\\ipykernel_4876\\1003983758.py:1: DtypeWarning: Columns (78) have mixed types. Specify dtype option on import or set low_memory=False.\n",
      "  dataset = pd.read_csv('EPL_2005_2023.csv', index_col=None, header=0)\n"
     ]
    }
   ],
   "source": [
    "dataset = pd.read_csv('EPL_2005_2023.csv', index_col=None, header=0)\n",
    "counter = 0\n",
    "test = []\n",
    "for i in range(0, len(y_val)):\n",
    "    if(y_val[i] == y_pred[i]):\n",
    "        if (y_val[i] == 0):\n",
    "            test.append(dataset.loc[train_size + i]['MaxD'])\n",
    "        if (y_val[i] == 1):\n",
    "            test.append(dataset.loc[train_size + i]['MaxA'])    \n",
    "        if (y_val[i] == 2):\n",
    "            test.append(dataset.loc[train_size + i]['MaxH'])\n",
    "    else:\n",
    "        test.append(0)\n",
    "print(test)\n",
    "print(sum(test) / len(test))\n",
    "\n"
   ]
  }
 ],
 "metadata": {
  "kernelspec": {
   "display_name": "Python 3",
   "language": "python",
   "name": "python3"
  },
  "language_info": {
   "codemirror_mode": {
    "name": "ipython",
    "version": 3
   },
   "file_extension": ".py",
   "mimetype": "text/x-python",
   "name": "python",
   "nbconvert_exporter": "python",
   "pygments_lexer": "ipython3",
   "version": "3.11.5"
  }
 },
 "nbformat": 4,
 "nbformat_minor": 0
}
