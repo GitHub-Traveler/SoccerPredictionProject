{
 "cells": [
  {
   "cell_type": "code",
   "execution_count": 12,
   "metadata": {
    "collapsed": true
   },
   "outputs": [],
   "source": [
    "import pandas as pd\n",
    "import glob\n",
    "import os\n",
    "import sklearn\n",
    "from sklearn.preprocessing import Normalizer\n",
    "from sklearn.model_selection import train_test_split\n",
    "import numpy as np"
   ]
  },
  {
   "cell_type": "code",
   "execution_count": 13,
   "metadata": {
    "collapsed": false
   },
   "outputs": [
    {
     "name": "stdout",
     "output_type": "stream",
     "text": [
      "EPL Dataset\\2005-2006.csv\n",
      "EPL Dataset\\2006-2007.csv\n",
      "EPL Dataset\\2007-2008.csv\n",
      "EPL Dataset\\2008-2009.csv\n",
      "EPL Dataset\\2009-2010.csv\n",
      "EPL Dataset\\2010-2011.csv\n",
      "EPL Dataset\\2011-2012.csv\n",
      "EPL Dataset\\2012-2013.csv\n",
      "EPL Dataset\\2013-2014.csv\n",
      "EPL Dataset\\2014-2015.csv\n",
      "EPL Dataset\\2015-2016.csv\n",
      "EPL Dataset\\2016-2017.csv\n",
      "EPL Dataset\\2017-2018.csv\n",
      "EPL Dataset\\2018-2019.csv\n",
      "EPL Dataset\\2019-2020.csv\n",
      "EPL Dataset\\2020-2021.csv\n",
      "EPL Dataset\\2021-2022.csv\n",
      "EPL Dataset\\2022-2023.csv\n",
      "EPL Dataset\\2023-2024.csv\n"
     ]
    }
   ],
   "source": [
    "# Create a joined pandas file\n",
    "joined_files = os.path.join(\"EPL Dataset\", \"*.csv\")\n",
    "joined_list = glob.glob(joined_files)\n",
    "li = []\n",
    "\n",
    "for filename in joined_list[12:]:\n",
    "    print(filename)\n",
    "    df = pd.read_csv(filename, index_col=None, header=0)\n",
    "    li.append(df)\n",
    "\n",
    "dataset = pd.concat(li, axis=0, ignore_index=True)\n"
   ]
  },
  {
   "cell_type": "code",
   "execution_count": 23,
   "metadata": {
    "collapsed": false
   },
   "outputs": [],
   "source": [
    "df_features = dataset[['B365H','B365D','B365A','IWH','IWD','IWA']]\n",
    "df_features = df_features.interpolate(method='linear')\n",
    "result = dataset['FTR']\n",
    "\n",
    "result = pd.factorize(result)\n",
    "features = np.array(df_features)\n",
    "\n",
    "scaler = Normalizer()\n",
    "\n",
    "features = scaler.fit_transform(features)\n",
    "result = np.array(result[0])\n",
    "train_size = int(len(features) * 0.8)\n",
    "X_train, X_val = features[:train_size], features[train_size:]\n",
    "y_train, y_val = result[:train_size], result[train_size:]\n",
    "X_val, X_test = X_val[:len(X_val) // 2], X_val[len(X_val) // 2:]\n",
    "y_val, y_test = y_val[:len(y_val) // 2], y_val[len(y_val) // 2:]"
   ]
  },
  {
   "cell_type": "code",
   "execution_count": 24,
   "metadata": {
    "collapsed": false
   },
   "outputs": [
    {
     "name": "stdout",
     "output_type": "stream",
     "text": [
      "0.524822695035461\n"
     ]
    }
   ],
   "source": [
    "\n",
    "from sklearn.ensemble import GradientBoostingClassifier\n",
    "from sklearn.metrics import accuracy_score\n",
    "model = GradientBoostingClassifier()\n",
    "model.fit(X_train, y_train)\n",
    "y_pred = model.predict(X_val)\n",
    "print(accuracy_score(y_pred, y_val))"
   ]
  },
  {
   "cell_type": "code",
   "execution_count": 26,
   "metadata": {
    "collapsed": false
   },
   "outputs": [
    {
     "name": "stdout",
     "output_type": "stream",
     "text": [
      "0.4950354609929078\n"
     ]
    }
   ],
   "source": [
    "from sklearn.ensemble import RandomForestClassifier\n",
    "model = RandomForestClassifier()\n",
    "model.fit(X_train, y_train)\n",
    "y_pred = model.predict(X_val)\n",
    "print(accuracy_score(y_pred, y_val))"
   ]
  },
  {
   "cell_type": "code",
   "execution_count": 30,
   "metadata": {},
   "outputs": [
    {
     "name": "stdout",
     "output_type": "stream",
     "text": [
      "0.5361702127659574\n"
     ]
    }
   ],
   "source": [
    "from sklearn.linear_model import SGDClassifier\n",
    "model = SGDClassifier()\n",
    "model.fit(X_train, y_train)\n",
    "y_pred = model.predict(X_val)\n",
    "print(accuracy_score(y_pred, y_val))"
   ]
  },
  {
   "cell_type": "code",
   "execution_count": 31,
   "metadata": {},
   "outputs": [
    {
     "name": "stdout",
     "output_type": "stream",
     "text": [
      "[0, 2.14, 2.33, 1.72, 1.19, 0, 1.46, 0, 0, 1.38, 0, 2.22, 1.46, 1.8, 0, 1.16, 0, 0, 1.62, 0, 0, 1.38, 2.07, 1.88, 0, 0, 1.35, 2.16, 2.35, 2.75, 0, 0, 1.14, 0, 1.18, 1.85, 0, 0, 2.1, 1.38, 0, 2.5, 2.36, 0, 2.41, 0, 0, 1.54, 1.37, 0, 0, 2.13, 2.05, 0, 1.9, 0, 0, 2.35, 1.1, 1.45, 2.25, 0, 1.6, 0, 1.35, 0, 2.04, 0, 1.71, 2.52, 1.59, 1.7, 0, 1.57, 2.44, 0, 2.26, 1.69, 0, 1.59, 1.81, 2.2, 0, 2.4, 2.75, 0, 0, 0, 2.62, 1.54, 1.47, 1.81, 0, 2.55, 0, 1.82, 1.6, 1.56, 0, 0, 0, 0, 1.53, 1.76, 0, 0, 0, 0, 0, 0, 0, 0, 2.86, 0, 1.29, 0, 0, 0, 0, 1.68, 2.1, 1.35, 1.59, 1.43, 0, 0, 0, 1.67, 2.56, 0, 0, 2.1, 2.51, 0, 1.44, 1.88, 1.56, 2.5, 0, 0, 1.54, 0, 0, 1.38, 1.96, 2.53, 0, 1.99, 0, 0, 0, 0, 1.19, 0, 2.72, 2.07, 0, 0, 0, 2.38, 0, 1.15, 2.12, 1.58, 2.65, 2.08, 2.1, 1.57, 0, 0, 0, 2.63, 0, 0, 1.76, 0, 0, 0, 2.11, 0, 0, 0, 1.83, 0, 0, 1.85, 0, 0, 1.5, 1.57, 1.53, 2.53, 0, 0, 0, 1.77, 2.06, 0, 1.55, 0, 2.01, 0, 0, 1.15, 1.95, 1.82, 0, 0, 0, 0, 0, 2.39, 2.48, 0, 2.12, 1.6, 0, 0, 1.81, 1.85, 2.09, 0, 1.66, 1.72, 2.36, 0, 2.58, 1.52, 0, 1.21, 0, 0, 0, 0, 1.91, 1.6, 1.85, 1.7, 0, 1.19, 1.47, 1.62, 0, 1.29, 1.59, 0, 1.55, 2.5, 2.0, 2.18, 1.23, 0, 0, 0, 0, 0, 2.3, 0, 0, 1.16, 0, 0, 2.52, 1.38, 0, 1.82, 0, 2.14, 0, 1.49, 2.72, 1.24, 2.04, 0, 0, 0, 2.25, 0, 0, 0, 0, 0, 1.5, 0, 2.2, 1.52, 1.93, 0, 0, 1.37, 0, 0, 0, 1.96, 0, 1.79, 1.29, 0, 1.38, 2.46, 0, 0, 0, 2.27, 2.78, 2.5, 1.57, 1.32, 0, 2.42, 1.26, 0, 0, 0, 0, 0, 1.6, 0, 1.45, 2.28, 1.25, 0, 0, 0, 2.02, 1.89, 0, 0, 2.18, 0, 0, 0, 0, 0, 1.53, 1.62, 2.18, 1.23, 0, 0, 2.32, 0, 1.38, 2.7, 1.6, 2.68, 1.92, 1.82, 0, 1.72, 0, 2.5, 0, 1.56, 1.63, 2.35, 2.17, 0, 2.33, 1.7, 0, 2.67, 0, 0, 1.56, 1.57, 0, 0, 2.59, 1.63, 0, 0, 0, 0, 1.74, 0, 1.4, 0, 0, 1.86, 1.42, 1.63, 0, 0, 1.86, 0, 0, 0, 0, 1.5, 0, 1.38, 2.24, 1.53, 0, 2.13, 1.33, 0, 2.4, 0, 0, 2.6, 0, 1.32, 0, 1.87, 0, 1.54, 0, 0, 2.15, 0, 0, 2.25, 1.34, 2.32, 2.08, 0, 0, 1.58, 1.27, 0, 0, 0, 0, 1.78, 1.96, 1.79, 0, 1.58, 1.28, 1.67, 1.67, 0, 0, 1.49, 0, 1.19, 1.48, 0, 1.76, 0, 0, 1.59, 2.6, 1.3, 2.04, 1.75, 0, 1.37, 2.36, 0, 1.24, 1.87, 0, 0, 1.13, 1.8, 0, 2.55, 1.83, 2.66, 1.3, 0, 0, 0, 1.97, 0, 0, 0, 1.48, 1.91, 0, 1.55, 2.78, 1.63, 1.24, 0, 2.38, 1.33, 1.83, 1.8, 0, 0, 2.1, 1.25, 0, 0, 2.5, 0, 1.83, 1.81, 0, 0, 1.68, 2.4, 0, 0, 0, 0, 2.38, 0, 0, 0, 1.42, 1.83, 1.75, 0, 0, 2.2, 0, 0, 1.39, 0, 0, 1.14, 0, 2.48, 1.66, 0, 2.15, 0, 2.09, 1.22, 0, 0, 0, 0, 1.46, 0, 2.48, 2.38, 0, 2.73, 0, 0, 1.42, 2.45, 2.47, 2.17, 2.57, 2.32, 2.08, 1.76, 0, 0, 2.62, 0, 1.43, 0, 0, 0, 1.84, 2.52, 0, 0, 0, 0, 0, 1.53, 1.22, 1.8, 1.52, 0, 1.33, 0, 0, 2.34, 1.68, 1.34, 0, 0, 2.52, 0, 1.35, 0, 0, 1.41, 1.44, 1.7, 2.1, 0, 2.44, 0, 1.47, 1.23, 0, 1.61, 1.45, 2.51, 0, 2.36, 1.19, 1.71, 1.32, 1.27, 1.47, 0, 1.78, 2.36, 2.36, 1.18, 0, 0, 2.28, 0, 1.15, 1.98, 1.21, 0, 0, 1.22, 1.46, 1.76, 0, 1.75, 2.02, 0, 1.74, 0, 2.26, 0, 0, 1.19, 1.42, 1.59, 1.66, 2.42, 0, 2.9, 2.15, 0, 0, 2.18, 1.34, 0, 1.77, 0, 0, 2.4, 0, 1.33, 0, 0, 2.47, 1.88, 0, 2.76, 2.63, 0, 1.97, 0, 0, 1.63, 0, 1.75, 0, 2.66, 1.63, 0, 1.14, 0, 0, 0, 1.29, 2.28, 0, 0, 2.4, 2.2, 1.2, 1.32, 0, 0, 0, 1.85, 0, 1.5, 0, 0, 1.7, 1.14, 2.15, 0, 1.95, 2.36, 0, 2.48, 1.18, 1.7, 1.63, 1.94, 0, 0, 0, 0, 1.32, 2.2, 2.6, 1.86, 2.45, 1.54, 0, 2.68, 0]\n",
      "0.9938439716312066\n"
     ]
    }
   ],
   "source": [
    "counter = 0\n",
    "test = []\n",
    "for i in range(0, len(y_val)):\n",
    "    if(y_val[i] == y_pred[i]):\n",
    "        if (y_val[i] == 0):\n",
    "            test.append(dataset.loc[train_size + i]['MaxD'])\n",
    "        if (y_val[i] == 1):\n",
    "            test.append(dataset.loc[train_size + i]['MaxA'])    \n",
    "        if (y_val[i] == 2):\n",
    "            test.append(dataset.loc[train_size + i]['MaxH'])\n",
    "    else:\n",
    "        test.append(0)\n",
    "print(test)\n",
    "print(sum(test) / len(test))\n",
    "\n"
   ]
  }
 ],
 "metadata": {
  "kernelspec": {
   "display_name": "Python 3",
   "language": "python",
   "name": "python3"
  },
  "language_info": {
   "codemirror_mode": {
    "name": "ipython",
    "version": 3
   },
   "file_extension": ".py",
   "mimetype": "text/x-python",
   "name": "python",
   "nbconvert_exporter": "python",
   "pygments_lexer": "ipython3",
   "version": "3.11.5"
  }
 },
 "nbformat": 4,
 "nbformat_minor": 0
}
